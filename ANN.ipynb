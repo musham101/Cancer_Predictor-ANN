{
 "cells": [
  {
   "cell_type": "code",
   "execution_count": 128,
   "id": "385f813a",
   "metadata": {},
   "outputs": [],
   "source": [
    "#Importing necessary Libraries\n",
    "import numpy as np\n",
    "import pandas as pd\n",
    "import tensorflow as tf"
   ]
  },
  {
   "cell_type": "code",
   "execution_count": 129,
   "id": "8e3130e3",
   "metadata": {},
   "outputs": [
    {
     "data": {
      "text/html": [
       "<div>\n",
       "<style scoped>\n",
       "    .dataframe tbody tr th:only-of-type {\n",
       "        vertical-align: middle;\n",
       "    }\n",
       "\n",
       "    .dataframe tbody tr th {\n",
       "        vertical-align: top;\n",
       "    }\n",
       "\n",
       "    .dataframe thead th {\n",
       "        text-align: right;\n",
       "    }\n",
       "</style>\n",
       "<table border=\"1\" class=\"dataframe\">\n",
       "  <thead>\n",
       "    <tr style=\"text-align: right;\">\n",
       "      <th></th>\n",
       "      <th>Clump_Thickness</th>\n",
       "      <th>Cell_Size_Uniformity</th>\n",
       "      <th>Cell_Shape_Uniformity</th>\n",
       "      <th>Marginal_Adhesion</th>\n",
       "      <th>Single_Epi_Cell_Size</th>\n",
       "      <th>Bare_Nuclei</th>\n",
       "      <th>Bland_Chromatin</th>\n",
       "      <th>Normal_Nucleoli</th>\n",
       "      <th>Mitoses</th>\n",
       "      <th>Class</th>\n",
       "    </tr>\n",
       "  </thead>\n",
       "  <tbody>\n",
       "    <tr>\n",
       "      <th>0</th>\n",
       "      <td>5</td>\n",
       "      <td>1</td>\n",
       "      <td>1</td>\n",
       "      <td>1</td>\n",
       "      <td>2</td>\n",
       "      <td>1</td>\n",
       "      <td>3</td>\n",
       "      <td>1</td>\n",
       "      <td>1</td>\n",
       "      <td>0</td>\n",
       "    </tr>\n",
       "    <tr>\n",
       "      <th>1</th>\n",
       "      <td>5</td>\n",
       "      <td>4</td>\n",
       "      <td>4</td>\n",
       "      <td>5</td>\n",
       "      <td>7</td>\n",
       "      <td>10</td>\n",
       "      <td>3</td>\n",
       "      <td>2</td>\n",
       "      <td>1</td>\n",
       "      <td>0</td>\n",
       "    </tr>\n",
       "    <tr>\n",
       "      <th>2</th>\n",
       "      <td>3</td>\n",
       "      <td>1</td>\n",
       "      <td>1</td>\n",
       "      <td>1</td>\n",
       "      <td>2</td>\n",
       "      <td>2</td>\n",
       "      <td>3</td>\n",
       "      <td>1</td>\n",
       "      <td>1</td>\n",
       "      <td>0</td>\n",
       "    </tr>\n",
       "    <tr>\n",
       "      <th>3</th>\n",
       "      <td>6</td>\n",
       "      <td>8</td>\n",
       "      <td>8</td>\n",
       "      <td>1</td>\n",
       "      <td>3</td>\n",
       "      <td>4</td>\n",
       "      <td>3</td>\n",
       "      <td>7</td>\n",
       "      <td>1</td>\n",
       "      <td>0</td>\n",
       "    </tr>\n",
       "    <tr>\n",
       "      <th>4</th>\n",
       "      <td>4</td>\n",
       "      <td>1</td>\n",
       "      <td>1</td>\n",
       "      <td>3</td>\n",
       "      <td>2</td>\n",
       "      <td>1</td>\n",
       "      <td>3</td>\n",
       "      <td>1</td>\n",
       "      <td>1</td>\n",
       "      <td>0</td>\n",
       "    </tr>\n",
       "  </tbody>\n",
       "</table>\n",
       "</div>"
      ],
      "text/plain": [
       "   Clump_Thickness  Cell_Size_Uniformity  Cell_Shape_Uniformity  \\\n",
       "0                5                     1                      1   \n",
       "1                5                     4                      4   \n",
       "2                3                     1                      1   \n",
       "3                6                     8                      8   \n",
       "4                4                     1                      1   \n",
       "\n",
       "   Marginal_Adhesion  Single_Epi_Cell_Size Bare_Nuclei  Bland_Chromatin  \\\n",
       "0                  1                     2           1                3   \n",
       "1                  5                     7          10                3   \n",
       "2                  1                     2           2                3   \n",
       "3                  1                     3           4                3   \n",
       "4                  3                     2           1                3   \n",
       "\n",
       "   Normal_Nucleoli  Mitoses Class  \n",
       "0                1        1     0  \n",
       "1                2        1     0  \n",
       "2                1        1     0  \n",
       "3                7        1     0  \n",
       "4                1        1     0  "
      ]
     },
     "execution_count": 129,
     "metadata": {},
     "output_type": "execute_result"
    }
   ],
   "source": [
    "#Loading Dataset\n",
    "df1 = pd.read_csv(\"openml_phpJNxH0q.csv\")\n",
    "df1.replace(to_replace=['benign', 'malignant'],value= ['0', '1'], inplace=True)\n",
    "df1.drop(df1[df1['Clump_Thickness'] == '?'].index, inplace = True)\n",
    "df1.drop(df1[df1['Cell_Size_Uniformity'] == '?'].index, inplace = True)\n",
    "df1.drop(df1[df1['Cell_Shape_Uniformity'] == '?'].index, inplace = True)\n",
    "df1.drop(df1[df1['Marginal_Adhesion'] == '?'].index, inplace = True)\n",
    "df1.drop(df1[df1['Single_Epi_Cell_Size'] == '?'].index, inplace = True)\n",
    "df1.drop(df1[df1['Bare_Nuclei'] == '?'].index, inplace = True)\n",
    "df1.drop(df1[df1['Bland_Chromatin'] == '?'].index, inplace = True)\n",
    "df1.drop(df1[df1['Normal_Nucleoli'] == '?'].index, inplace = True)\n",
    "df1.drop(df1[df1['Mitoses'] == '?'].index, inplace = True)\n",
    "df1.head()"
   ]
  },
  {
   "cell_type": "code",
   "execution_count": 130,
   "id": "d44ae43c",
   "metadata": {},
   "outputs": [
    {
     "data": {
      "text/plain": [
       "Clump_Thickness           int64\n",
       "Cell_Size_Uniformity      int64\n",
       "Cell_Shape_Uniformity     int64\n",
       "Marginal_Adhesion         int64\n",
       "Single_Epi_Cell_Size      int64\n",
       "Bare_Nuclei              object\n",
       "Bland_Chromatin           int64\n",
       "Normal_Nucleoli           int64\n",
       "Mitoses                   int64\n",
       "Class                    object\n",
       "dtype: object"
      ]
     },
     "execution_count": 130,
     "metadata": {},
     "output_type": "execute_result"
    }
   ],
   "source": [
    "df1.dtypes"
   ]
  },
  {
   "cell_type": "code",
   "execution_count": 131,
   "id": "571899f7",
   "metadata": {},
   "outputs": [
    {
     "name": "stderr",
     "output_type": "stream",
     "text": [
      "C:\\Users\\MUSHAM~1\\AppData\\Local\\Temp/ipykernel_9428/3310984656.py:1: FutureWarning: In a future version of pandas all arguments of DataFrame.drop except for the argument 'labels' will be keyword-only\n",
      "  df1 = df1.drop('Bare_Nuclei', 1)\n"
     ]
    }
   ],
   "source": [
    "df1 = df1.drop('Bare_Nuclei', 1)"
   ]
  },
  {
   "cell_type": "code",
   "execution_count": 132,
   "id": "11279e1b",
   "metadata": {},
   "outputs": [],
   "source": [
    "df1['Class'] = df1.Class.astype(int)"
   ]
  },
  {
   "cell_type": "code",
   "execution_count": 133,
   "id": "9d5bb292",
   "metadata": {},
   "outputs": [
    {
     "data": {
      "text/plain": [
       "Clump_Thickness          int64\n",
       "Cell_Size_Uniformity     int64\n",
       "Cell_Shape_Uniformity    int64\n",
       "Marginal_Adhesion        int64\n",
       "Single_Epi_Cell_Size     int64\n",
       "Bland_Chromatin          int64\n",
       "Normal_Nucleoli          int64\n",
       "Mitoses                  int64\n",
       "Class                    int32\n",
       "dtype: object"
      ]
     },
     "execution_count": 133,
     "metadata": {},
     "output_type": "execute_result"
    }
   ],
   "source": [
    "df1.dtypes"
   ]
  },
  {
   "cell_type": "code",
   "execution_count": 134,
   "id": "e75c65f4",
   "metadata": {},
   "outputs": [],
   "source": [
    "#Generating Matrix of Features\n",
    "X = df1.iloc[:,3:-1].values"
   ]
  },
  {
   "cell_type": "code",
   "execution_count": 135,
   "id": "14d265ca",
   "metadata": {},
   "outputs": [],
   "source": [
    "#Generating Dependent Variable Vectors\n",
    "Y = df1.iloc[:,-1].values"
   ]
  },
  {
   "cell_type": "code",
   "execution_count": 136,
   "id": "dbdd8ba7",
   "metadata": {},
   "outputs": [],
   "source": [
    "#Splitting dataset into training and testing dataset\n",
    "from sklearn.model_selection import train_test_split\n",
    "X_train,X_test,Y_train,Y_test = train_test_split(X,Y,test_size=0.2,random_state=0)"
   ]
  },
  {
   "cell_type": "code",
   "execution_count": 137,
   "id": "9ae4d1ce",
   "metadata": {},
   "outputs": [],
   "source": [
    "#Performing Feature Scaling\n",
    "from sklearn.preprocessing import StandardScaler\n",
    "sc = StandardScaler()\n",
    "X_train = sc.fit_transform(X_train)\n",
    "X_test = sc.transform(X_test)"
   ]
  },
  {
   "cell_type": "code",
   "execution_count": 138,
   "id": "6d77d753",
   "metadata": {},
   "outputs": [],
   "source": [
    "#Initialising ANN\n",
    "ann = tf.keras.models.Sequential()"
   ]
  },
  {
   "cell_type": "code",
   "execution_count": 139,
   "id": "7e313cfe",
   "metadata": {},
   "outputs": [],
   "source": [
    "#Adding First Hidden Layer\n",
    "ann.add(tf.keras.layers.Dense(units=6,activation=\"relu\"))"
   ]
  },
  {
   "cell_type": "code",
   "execution_count": 140,
   "id": "584f865f",
   "metadata": {},
   "outputs": [],
   "source": [
    "#Adding Second Hidden Layer\n",
    "ann.add(tf.keras.layers.Dense(units=6,activation=\"relu\"))"
   ]
  },
  {
   "cell_type": "code",
   "execution_count": 141,
   "id": "b644f923",
   "metadata": {},
   "outputs": [],
   "source": [
    "#Adding Output Layer\n",
    "ann.add(tf.keras.layers.Dense(units=1,activation=\"sigmoid\"))"
   ]
  },
  {
   "cell_type": "code",
   "execution_count": 142,
   "id": "3062477c",
   "metadata": {},
   "outputs": [],
   "source": [
    "#Compiling ANN\n",
    "ann.compile(optimizer=\"adam\",loss=\"binary_crossentropy\",metrics=['accuracy'])"
   ]
  },
  {
   "cell_type": "code",
   "execution_count": 143,
   "id": "cca439e5",
   "metadata": {},
   "outputs": [
    {
     "name": "stdout",
     "output_type": "stream",
     "text": [
      "Epoch 1/100\n",
      "18/18 [==============================] - 3s 7ms/step - loss: 0.6616 - accuracy: 0.7692\n",
      "Epoch 2/100\n",
      "18/18 [==============================] - 0s 4ms/step - loss: 0.5985 - accuracy: 0.8278\n",
      "Epoch 3/100\n",
      "18/18 [==============================] - 0s 4ms/step - loss: 0.5391 - accuracy: 0.8498\n",
      "Epoch 4/100\n",
      "18/18 [==============================] - 0s 4ms/step - loss: 0.4879 - accuracy: 0.8608\n",
      "Epoch 5/100\n",
      "18/18 [==============================] - 0s 4ms/step - loss: 0.4399 - accuracy: 0.8755\n",
      "Epoch 6/100\n",
      "18/18 [==============================] - 0s 4ms/step - loss: 0.3968 - accuracy: 0.8901\n",
      "Epoch 7/100\n",
      "18/18 [==============================] - 0s 5ms/step - loss: 0.3590 - accuracy: 0.8993\n",
      "Epoch 8/100\n",
      "18/18 [==============================] - 0s 4ms/step - loss: 0.3261 - accuracy: 0.9066\n",
      "Epoch 9/100\n",
      "18/18 [==============================] - 0s 4ms/step - loss: 0.2978 - accuracy: 0.9139\n",
      "Epoch 10/100\n",
      "18/18 [==============================] - 0s 4ms/step - loss: 0.2745 - accuracy: 0.9212\n",
      "Epoch 11/100\n",
      "18/18 [==============================] - 0s 5ms/step - loss: 0.2551 - accuracy: 0.9267\n",
      "Epoch 12/100\n",
      "18/18 [==============================] - 0s 5ms/step - loss: 0.2374 - accuracy: 0.9267\n",
      "Epoch 13/100\n",
      "18/18 [==============================] - 0s 4ms/step - loss: 0.2224 - accuracy: 0.9341\n",
      "Epoch 14/100\n",
      "18/18 [==============================] - 0s 4ms/step - loss: 0.2097 - accuracy: 0.9341\n",
      "Epoch 15/100\n",
      "18/18 [==============================] - 0s 4ms/step - loss: 0.1991 - accuracy: 0.9359\n",
      "Epoch 16/100\n",
      "18/18 [==============================] - 0s 5ms/step - loss: 0.1895 - accuracy: 0.9359\n",
      "Epoch 17/100\n",
      "18/18 [==============================] - 0s 4ms/step - loss: 0.1818 - accuracy: 0.9359\n",
      "Epoch 18/100\n",
      "18/18 [==============================] - 0s 5ms/step - loss: 0.1751 - accuracy: 0.9414\n",
      "Epoch 19/100\n",
      "18/18 [==============================] - 0s 4ms/step - loss: 0.1690 - accuracy: 0.9451\n",
      "Epoch 20/100\n",
      "18/18 [==============================] - 0s 5ms/step - loss: 0.1635 - accuracy: 0.9451\n",
      "Epoch 21/100\n",
      "18/18 [==============================] - 0s 5ms/step - loss: 0.1591 - accuracy: 0.9469\n",
      "Epoch 22/100\n",
      "18/18 [==============================] - 0s 5ms/step - loss: 0.1552 - accuracy: 0.9487\n",
      "Epoch 23/100\n",
      "18/18 [==============================] - 0s 5ms/step - loss: 0.1515 - accuracy: 0.9487\n",
      "Epoch 24/100\n",
      "18/18 [==============================] - 0s 5ms/step - loss: 0.1485 - accuracy: 0.9505\n",
      "Epoch 25/100\n",
      "18/18 [==============================] - 0s 6ms/step - loss: 0.1455 - accuracy: 0.9505\n",
      "Epoch 26/100\n",
      "18/18 [==============================] - 0s 4ms/step - loss: 0.1432 - accuracy: 0.9524\n",
      "Epoch 27/100\n",
      "18/18 [==============================] - ETA: 0s - loss: 0.1451 - accuracy: 0.95 - 0s 5ms/step - loss: 0.1410 - accuracy: 0.9542\n",
      "Epoch 28/100\n",
      "18/18 [==============================] - 0s 6ms/step - loss: 0.1390 - accuracy: 0.9542: 0s - loss: 0.1455 - accuracy: 0.95\n",
      "Epoch 29/100\n",
      "18/18 [==============================] - 0s 4ms/step - loss: 0.1370 - accuracy: 0.9542\n",
      "Epoch 30/100\n",
      "18/18 [==============================] - 0s 5ms/step - loss: 0.1353 - accuracy: 0.9579\n",
      "Epoch 31/100\n",
      "18/18 [==============================] - 0s 5ms/step - loss: 0.1339 - accuracy: 0.9560\n",
      "Epoch 32/100\n",
      "18/18 [==============================] - 0s 5ms/step - loss: 0.1324 - accuracy: 0.9579\n",
      "Epoch 33/100\n",
      "18/18 [==============================] - 0s 5ms/step - loss: 0.1308 - accuracy: 0.9579\n",
      "Epoch 34/100\n",
      "18/18 [==============================] - 0s 5ms/step - loss: 0.1296 - accuracy: 0.9579\n",
      "Epoch 35/100\n",
      "18/18 [==============================] - 0s 4ms/step - loss: 0.1285 - accuracy: 0.9579\n",
      "Epoch 36/100\n",
      "18/18 [==============================] - 0s 5ms/step - loss: 0.1274 - accuracy: 0.9579\n",
      "Epoch 37/100\n",
      "18/18 [==============================] - 0s 5ms/step - loss: 0.1260 - accuracy: 0.9560\n",
      "Epoch 38/100\n",
      "18/18 [==============================] - 0s 5ms/step - loss: 0.1247 - accuracy: 0.9542\n",
      "Epoch 39/100\n",
      "18/18 [==============================] - 0s 5ms/step - loss: 0.1236 - accuracy: 0.9542\n",
      "Epoch 40/100\n",
      "18/18 [==============================] - 0s 5ms/step - loss: 0.1229 - accuracy: 0.9560\n",
      "Epoch 41/100\n",
      "18/18 [==============================] - 0s 6ms/step - loss: 0.1222 - accuracy: 0.9560\n",
      "Epoch 42/100\n",
      "18/18 [==============================] - 0s 6ms/step - loss: 0.1216 - accuracy: 0.9597\n",
      "Epoch 43/100\n",
      "18/18 [==============================] - 0s 7ms/step - loss: 0.1209 - accuracy: 0.9597\n",
      "Epoch 44/100\n",
      "18/18 [==============================] - 0s 5ms/step - loss: 0.1204 - accuracy: 0.9579\n",
      "Epoch 45/100\n",
      "18/18 [==============================] - 0s 5ms/step - loss: 0.1200 - accuracy: 0.9597\n",
      "Epoch 46/100\n",
      "18/18 [==============================] - 0s 6ms/step - loss: 0.1194 - accuracy: 0.9615\n",
      "Epoch 47/100\n",
      "18/18 [==============================] - 0s 6ms/step - loss: 0.1189 - accuracy: 0.9615\n",
      "Epoch 48/100\n",
      "18/18 [==============================] - 0s 5ms/step - loss: 0.1186 - accuracy: 0.9615\n",
      "Epoch 49/100\n",
      "18/18 [==============================] - ETA: 0s - loss: 0.1265 - accuracy: 0.96 - 0s 5ms/step - loss: 0.1184 - accuracy: 0.9615\n",
      "Epoch 50/100\n",
      "18/18 [==============================] - 0s 6ms/step - loss: 0.1180 - accuracy: 0.9615\n",
      "Epoch 51/100\n",
      "18/18 [==============================] - 0s 5ms/step - loss: 0.1176 - accuracy: 0.9615\n",
      "Epoch 52/100\n",
      "18/18 [==============================] - 0s 4ms/step - loss: 0.1173 - accuracy: 0.9615\n",
      "Epoch 53/100\n",
      "18/18 [==============================] - 0s 6ms/step - loss: 0.1169 - accuracy: 0.9597\n",
      "Epoch 54/100\n",
      "18/18 [==============================] - 0s 5ms/step - loss: 0.1163 - accuracy: 0.9597\n",
      "Epoch 55/100\n",
      "18/18 [==============================] - 0s 5ms/step - loss: 0.1161 - accuracy: 0.9597\n",
      "Epoch 56/100\n",
      "18/18 [==============================] - 0s 4ms/step - loss: 0.1155 - accuracy: 0.9597\n",
      "Epoch 57/100\n",
      "18/18 [==============================] - 0s 5ms/step - loss: 0.1151 - accuracy: 0.9597\n",
      "Epoch 58/100\n",
      "18/18 [==============================] - 0s 5ms/step - loss: 0.1148 - accuracy: 0.9597\n",
      "Epoch 59/100\n",
      "18/18 [==============================] - 0s 5ms/step - loss: 0.1147 - accuracy: 0.9597\n",
      "Epoch 60/100\n",
      "18/18 [==============================] - 0s 5ms/step - loss: 0.1143 - accuracy: 0.9597\n",
      "Epoch 61/100\n",
      "18/18 [==============================] - 0s 5ms/step - loss: 0.1140 - accuracy: 0.9597\n",
      "Epoch 62/100\n",
      "18/18 [==============================] - 0s 5ms/step - loss: 0.1138 - accuracy: 0.9597\n",
      "Epoch 63/100\n",
      "18/18 [==============================] - 0s 6ms/step - loss: 0.1135 - accuracy: 0.9597: 0s - loss: 0.1211 - accuracy: 0.95\n",
      "Epoch 64/100\n",
      "18/18 [==============================] - 0s 5ms/step - loss: 0.1133 - accuracy: 0.9597\n",
      "Epoch 65/100\n",
      "18/18 [==============================] - 0s 5ms/step - loss: 0.1131 - accuracy: 0.9597\n",
      "Epoch 66/100\n",
      "18/18 [==============================] - 0s 5ms/step - loss: 0.1129 - accuracy: 0.9597\n",
      "Epoch 67/100\n",
      "18/18 [==============================] - 0s 4ms/step - loss: 0.1127 - accuracy: 0.9597\n",
      "Epoch 68/100\n",
      "18/18 [==============================] - 0s 5ms/step - loss: 0.1125 - accuracy: 0.9579\n",
      "Epoch 69/100\n",
      "18/18 [==============================] - 0s 4ms/step - loss: 0.1124 - accuracy: 0.9579\n",
      "Epoch 70/100\n",
      "18/18 [==============================] - 0s 5ms/step - loss: 0.1122 - accuracy: 0.9579\n",
      "Epoch 71/100\n",
      "18/18 [==============================] - 0s 5ms/step - loss: 0.1120 - accuracy: 0.9579\n",
      "Epoch 72/100\n",
      "18/18 [==============================] - 0s 5ms/step - loss: 0.1120 - accuracy: 0.9579\n",
      "Epoch 73/100\n",
      "18/18 [==============================] - 0s 5ms/step - loss: 0.1120 - accuracy: 0.9579\n",
      "Epoch 74/100\n",
      "18/18 [==============================] - ETA: 0s - loss: 0.1153 - accuracy: 0.95 - 0s 5ms/step - loss: 0.1118 - accuracy: 0.9579\n",
      "Epoch 75/100\n",
      "18/18 [==============================] - 0s 5ms/step - loss: 0.1115 - accuracy: 0.9579\n",
      "Epoch 76/100\n",
      "18/18 [==============================] - 0s 5ms/step - loss: 0.1113 - accuracy: 0.9579\n",
      "Epoch 77/100\n",
      "18/18 [==============================] - 0s 5ms/step - loss: 0.1113 - accuracy: 0.9579\n",
      "Epoch 78/100\n",
      "18/18 [==============================] - 0s 5ms/step - loss: 0.1116 - accuracy: 0.9560\n",
      "Epoch 79/100\n",
      "18/18 [==============================] - 0s 5ms/step - loss: 0.1108 - accuracy: 0.9579\n",
      "Epoch 80/100\n",
      "18/18 [==============================] - 0s 5ms/step - loss: 0.1107 - accuracy: 0.9579\n",
      "Epoch 81/100\n",
      "18/18 [==============================] - 0s 5ms/step - loss: 0.1107 - accuracy: 0.9579\n",
      "Epoch 82/100\n",
      "18/18 [==============================] - 0s 5ms/step - loss: 0.1105 - accuracy: 0.9579\n",
      "Epoch 83/100\n",
      "18/18 [==============================] - 0s 4ms/step - loss: 0.1103 - accuracy: 0.9579\n",
      "Epoch 84/100\n",
      "18/18 [==============================] - 0s 4ms/step - loss: 0.1103 - accuracy: 0.9579\n",
      "Epoch 85/100\n",
      "18/18 [==============================] - 0s 5ms/step - loss: 0.1112 - accuracy: 0.9560\n",
      "Epoch 86/100\n",
      "18/18 [==============================] - 0s 4ms/step - loss: 0.1111 - accuracy: 0.9560\n",
      "Epoch 87/100\n",
      "18/18 [==============================] - 0s 5ms/step - loss: 0.1110 - accuracy: 0.9560: 0s - loss: 0.1184 - accuracy: 0.95\n",
      "Epoch 88/100\n",
      "18/18 [==============================] - 0s 5ms/step - loss: 0.1107 - accuracy: 0.9560\n",
      "Epoch 89/100\n",
      "18/18 [==============================] - 0s 6ms/step - loss: 0.1101 - accuracy: 0.9579\n",
      "Epoch 90/100\n",
      "18/18 [==============================] - 0s 5ms/step - loss: 0.1098 - accuracy: 0.9579\n",
      "Epoch 91/100\n",
      "18/18 [==============================] - 0s 5ms/step - loss: 0.1097 - accuracy: 0.9560\n",
      "Epoch 92/100\n",
      "18/18 [==============================] - 0s 5ms/step - loss: 0.1096 - accuracy: 0.9560\n",
      "Epoch 93/100\n",
      "18/18 [==============================] - 0s 6ms/step - loss: 0.1100 - accuracy: 0.9579\n",
      "Epoch 94/100\n",
      "18/18 [==============================] - 0s 5ms/step - loss: 0.1093 - accuracy: 0.9579\n",
      "Epoch 95/100\n",
      "18/18 [==============================] - 0s 5ms/step - loss: 0.1093 - accuracy: 0.9579\n",
      "Epoch 96/100\n",
      "18/18 [==============================] - 0s 5ms/step - loss: 0.1092 - accuracy: 0.9579\n",
      "Epoch 97/100\n",
      "18/18 [==============================] - 0s 5ms/step - loss: 0.1093 - accuracy: 0.9579\n",
      "Epoch 98/100\n",
      "18/18 [==============================] - 0s 5ms/step - loss: 0.1092 - accuracy: 0.9579\n",
      "Epoch 99/100\n",
      "18/18 [==============================] - 0s 5ms/step - loss: 0.1091 - accuracy: 0.9579\n",
      "Epoch 100/100\n",
      "18/18 [==============================] - 0s 4ms/step - loss: 0.1090 - accuracy: 0.9579\n"
     ]
    },
    {
     "data": {
      "text/plain": [
       "<keras.callbacks.History at 0x18726964f40>"
      ]
     },
     "execution_count": 143,
     "metadata": {},
     "output_type": "execute_result"
    }
   ],
   "source": [
    "#Fitting ANN\n",
    "ann.fit(X_train,Y_train,batch_size=32,epochs = 100)"
   ]
  },
  {
   "cell_type": "code",
   "execution_count": 149,
   "id": "ca4dffb1",
   "metadata": {},
   "outputs": [
    {
     "name": "stdout",
     "output_type": "stream",
     "text": [
      "paitent does have Cancer\n"
     ]
    }
   ],
   "source": [
    "#Predicting result for Single Observation\n",
    "if ann.predict(sc.transform([[2, 3, 2, 1, 4]])) == 0:\n",
    "   print(\"paitent doesnot have Cancer\")\n",
    "else:\n",
    "    print(\"paitent does have Cancer\")"
   ]
  },
  {
   "cell_type": "code",
   "execution_count": 151,
   "id": "55490bb0",
   "metadata": {},
   "outputs": [
    {
     "data": {
      "text/plain": [
       "StandardScaler()"
      ]
     },
     "execution_count": 151,
     "metadata": {},
     "output_type": "execute_result"
    }
   ],
   "source": []
  },
  {
   "cell_type": "code",
   "execution_count": null,
   "id": "3fddec1d",
   "metadata": {},
   "outputs": [],
   "source": []
  }
 ],
 "metadata": {
  "kernelspec": {
   "display_name": "Python 3 (ipykernel)",
   "language": "python",
   "name": "python3"
  },
  "language_info": {
   "codemirror_mode": {
    "name": "ipython",
    "version": 3
   },
   "file_extension": ".py",
   "mimetype": "text/x-python",
   "name": "python",
   "nbconvert_exporter": "python",
   "pygments_lexer": "ipython3",
   "version": "3.9.7"
  }
 },
 "nbformat": 4,
 "nbformat_minor": 5
}
